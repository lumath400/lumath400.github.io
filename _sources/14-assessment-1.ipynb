{
 "cells": [
  {
   "cell_type": "markdown",
   "id": "ec590164",
   "metadata": {},
   "source": [
    "# Assessment 1"
   ]
  },
  {
   "cell_type": "markdown",
   "id": "12ad4629",
   "metadata": {},
   "source": [
    "## Overview"
   ]
  },
  {
   "cell_type": "markdown",
   "id": "c613d91b",
   "metadata": {},
   "source": [
    "This is the assessment for the Statistics in Practice - Python Module. It counts as 30% of your overall mark for the module.\n",
    "\n",
    "The assessment is to be undertaken individually. Your work must be submitted in the form of a single jupyter notebook. \n",
    "The assessments will be released during the workshops, and are due a week later. Please check the submission box for the exact submission deadline. \n",
    "Before your results and feedback are returned you might be asked to have a short (approximately 5 minutes) individual \"interview\" to discuss some aspects of your work. The outcome of this interview might impact on your overall individual score.\n",
    "\n",
    "The three assessments are equally weighted.\n",
    "\n",
    "To score full marks in the questions you must show all of your code and calculations, make good use of plots for visualising and summarising your data, discuss any limitations associated with your approach, and comment your code.\n",
    "The questions are \"exploratory\" in nature, so you are expected to reflect on what you are being asked to do and research the methods being developed. For example, you might choose to investigate what the effect of the quadrat size has on the power of the method for determining non randomness, or you might want to say something about how the likelihood of a obtaining a particular result might be quantified, and so on ....\n",
    "\n",
    "\n",
    "You can use the internet to search for examples of python code that may be useful, but do make reference to your sources. \n",
    "\n",
    "If you have any questions regarding the course and / or the assessment, please do not hesitate to contact me by [e-mail](mailto:e.campillo-funollet@lancaster.ac.uk)\n"
   ]
  },
  {
   "cell_type": "markdown",
   "id": "2fc1f4c1",
   "metadata": {},
   "source": [
    "## Part 1.1"
   ]
  },
  {
   "cell_type": "markdown",
   "id": "faa02cae",
   "metadata": {},
   "source": [
    "The following code uses the [numpy](https://numpy.org/doc/stable/index.html) library to generate a data frame of 100 points uniformly distributed in the unit square."
   ]
  },
  {
   "cell_type": "code",
   "execution_count": 1,
   "id": "56bf0377",
   "metadata": {},
   "outputs": [],
   "source": [
    "import numpy as np\n",
    "import pandas as pd\n",
    "uniform_data = pd.DataFrame({\"X\" : np.random.uniform(0,1,100),\"Y\" : np.random.uniform(0,1,100)})"
   ]
  },
  {
   "cell_type": "markdown",
   "id": "02dc7231",
   "metadata": {},
   "source": [
    "Using a suitable plot, visualise the data."
   ]
  },
  {
   "cell_type": "markdown",
   "id": "0790424d",
   "metadata": {},
   "source": [
    "## Part 1.2\n",
    "\n",
    "The distance between between two points $p_{i} = (x_{i},y_{i})$ and  $p_{j} = (x_{j},y_{j})$ can be calculated using the Euclidean distance as \n",
    "\n",
    "$d_{ij} = \\sqrt{(x_{i}-x_{j})^{2} + (y_{i}-y_{j})^{2}}$\n",
    "\n",
    "For a given point $p_{i} = (x_{i},y_{i})$, its nearest neighbour is the point $p_{j} = (x_{j},y_{j})$, $i \\neq j$, such that the distance $d_{ij}$ is the smallest amongst all distances from $p_{i}$ to all other points.\n",
    "\n",
    "Use Python to create a pandas data frame containing coordinates of random points along with a column containing the distance from each point to its nearest neighbour. Your data might be organised in a way something like that shown below\n",
    "\n",
    "\n",
    "\n",
    "| | x | y | d |\n",
    "|- | - | - | - |\n",
    "|0 |\t0.623908 \t|0.632107 |\t0.020188 |\n",
    "|1 |\t0.031473 |\t0.972909 |\t0.055497 |\n",
    "|2 |\t0.307875| \t0.505808 |\t0.039454 |\n",
    "|3 |\t0.773175 |\t0.807915 |\t0.064741 |\n",
    "|4 |\t0.208603 |\t0.902263 |\t0.017473 |\n",
    "|... |\t... |\t... |\t...|\n",
    "|95 |\t0.878250 |\t0.173126 |\t0.062597 |\n",
    "|96 |\t0.866103 |\t0.276347 |\t0.044193 |"
   ]
  },
  {
   "cell_type": "markdown",
   "id": "bebb8eff",
   "metadata": {},
   "source": [
    "## Part 1.3\n",
    "\n",
    "If n points are placed at random in a region with area $A$ then the expected value of the distance from each point to its nearest neighbour is given by [Clark and Evans (1954)](https://esajournals.onlinelibrary.wiley.com/doi/10.2307/1931034) as\n",
    "\n",
    "$E[d] = \\frac{\\sqrt{\\sigma}}{2}$\n",
    "\n",
    "where $d$ is the distance and $\\sigma = A/n$ is the population density. \n",
    "\n",
    "Using your result from __Part 1.2__, determine if your randomly generated data is consistent with this claim."
   ]
  },
  {
   "cell_type": "markdown",
   "id": "713682d7",
   "metadata": {},
   "source": [
    "## Part 1.4\n",
    "\n",
    "By repeatedly generating random data and calculating the mean nearest neighbour distances, determine approximate values $[a,b]$ for a 95% confidence interval of $E[d]$ in the unit square. \n",
    "\n",
    "Is your confidence interval centered on the value of $E[d]$ proposed by Clark and Evans ? If not, why might this be the case ? Does the confidence interval depend on the size of the random samples ? If so, how does it vary ?\n"
   ]
  }
   ],
 "metadata": {
  "kernelspec": {
   "display_name": "Python 3 (ipykernel)",
   "language": "python",
   "name": "python3"
  },
  "language_info": {
   "codemirror_mode": {
    "name": "ipython",
    "version": 3
   },
   "file_extension": ".py",
   "mimetype": "text/x-python",
   "name": "python",
   "nbconvert_exporter": "python",
   "pygments_lexer": "ipython3",
   "version": "3.9.9"
  }
 },
 "nbformat": 4,
 "nbformat_minor": 5
}
