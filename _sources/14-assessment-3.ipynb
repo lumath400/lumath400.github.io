{
 "cells": [
  {
   "cell_type": "markdown",
   "id": "ec590164",
   "metadata": {},
   "source": [
    "# Assessment 3"
   ]
  },
  {
   "cell_type": "markdown",
   "id": "12ad4629",
   "metadata": {},
   "source": [
    "## Overview"
   ]
  },
  {
   "cell_type": "markdown",
   "id": "c613d91b",
   "metadata": {},
   "source": [
    "This is the assessment for the Statistics in Practice - Python Module. It counts as 30% of your overall mark for the module.\n",
    "\n",
    "The assessment is to be undertaken individually. Your work must be submitted in the form of a single jupyter notebook. \n",
    "The assessments will be released during the workshops, and are due a week later. Please check the submission box for the exact submission deadline. \n",
    "Before your results and feedback are returned you might be asked to have a short (approximately 5 minutes) individual \"interview\" to discuss some aspects of your work. The outcome of this interview might impact on your overall individual score.\n",
    "\n",
    "The three assessments are equally weighted.\n",
    "\n",
    "To score full marks in the questions you must show all of your code and calculations, make good use of plots for visualising and summarising your data, discuss any limitations associated with your approach, and comment your code.\n",
    "The questions are \"exploratory\" in nature, so you are expected to reflect on what you are being asked to do and research the methods being developed. For example, you might choose to investigate what the effect of the quadrat size has on the power of the method for determining non randomness, or you might want to say something about how the likelihood of a obtaining a particular result might be quantified, and so on ....\n",
    "\n",
    "\n",
    "You can use the internet to search for examples of python code that may be useful, but do make reference to your sources. \n",
    "\n",
    "If you have any questions regarding the course and / or the assessment, please do not hesitate to contact me by [e-mail](mailto:e.campillo-funollet@lancaster.ac.uk)\n"
   ]
  },
    {
   "cell_type": "markdown",
   "id": "9482f4c2",
   "metadata": {},
   "source": [
    "## Part 3.1\n",
    "\n",
    "Using your result from __Part 2.2__ and some appropriately generated data, determine the counts for each quadrat in the grid and summarise your results in a data frame. Your data frame might look something like \n",
    "\n",
    "| | x0 | x1 | y0 | y1 | count |\n",
    "|- | - | - | - | - | - |\n",
    "|0 |0.0 |\t0.1 |\t0.0 |\t0.1| 0|\n",
    "|1 \t|0.0 |\t0.1 |\t0.1 |\t0.2| 2|\n",
    "|2 \t|0.0 |\t0.1 |\t0.2 |\t0.3| 0|\n",
    "|3 \t|0.0 |\t0.1 |\t0.3 |\t0.4| 0 |\n",
    "|4 \t|0.0 |\t0.1 |\t0.4 |\t0.5| 1|\n",
    "|... | \t... |\t... |\t...| \t...| ...|\n",
    "|95 |\t0.9 |\t1.0 |\t0.5 |\t0.6| 0|\n",
    "|96 |\t0.9 |\t1.0 |\t0.6 |\t0.7| 3|\n",
    "|97 |\t0.9 |\t1.0 |\t0.7 |\t0.8|2|\n",
    "\n",
    "Compare your \"count\" data with the appropriate poisson disribution. \n",
    "\n",
    "Explain how you would use your results to detect non random data. Would this quadrat based method detect non randomness in your \"pathological\" data from __Part 2.1__ ?\n",
    "\n",
    "Using appropriate visualisations and statistics compare and contrast the quadrat method with the approach proposed by Clark and Evans. "
   ]
  },
  {
   "cell_type": "markdown",
   "id": "f1446b87",
   "metadata": {},
   "source": [
    "## Part 3.2\n",
    "\n",
    "The data set __./data/trees.txt__ contains the (normalised) x y coordinates of the locations of a certain species of tree in a square region in a small wood. The data set is tab seperated.\n",
    "\n",
    "Using the methods you have developed in the previos parts of this assessment, investigate the claim that these trees are not randomly distributed. Write a short report describing your investigation and use your results to form a conclusion regarding the claim of non randomness. You can assume that the readership of your report has a statistical training, but it should also include an \"executive summary\" for non technically trained readers."
   ]
  }
 ],
 "metadata": {
  "kernelspec": {
   "display_name": "Python 3 (ipykernel)",
   "language": "python",
   "name": "python3"
  },
  "language_info": {
   "codemirror_mode": {
    "name": "ipython",
    "version": 3
   },
   "file_extension": ".py",
   "mimetype": "text/x-python",
   "name": "python",
   "nbconvert_exporter": "python",
   "pygments_lexer": "ipython3",
   "version": "3.9.9"
  }
 },
 "nbformat": 4,
 "nbformat_minor": 5
}
